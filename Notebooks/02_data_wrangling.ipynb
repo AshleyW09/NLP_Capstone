{
 "cells": [
  {
   "cell_type": "markdown",
   "id": "b078cf1b",
   "metadata": {},
   "source": [
    "# Data Wrangling"
   ]
  },
  {
   "cell_type": "markdown",
   "id": "8a8711ab",
   "metadata": {},
   "source": [
    "### Imports"
   ]
  },
  {
   "cell_type": "code",
   "execution_count": null,
   "id": "a3e671f4",
   "metadata": {},
   "outputs": [],
   "source": [
    "import pandas as pd\n",
    "import numpy as np\n",
    "import matplotlib.pyplot as plt"
   ]
  },
  {
   "cell_type": "markdown",
   "id": "71bbf278",
   "metadata": {},
   "source": [
    "### Load the Data"
   ]
  },
  {
   "cell_type": "code",
   "execution_count": null,
   "id": "c0c72dd0",
   "metadata": {},
   "outputs": [],
   "source": [
    "clothing_data = pd.read_csv(r\"C:\\Users\\ashle\\OneDrive\\Documents\\GitHub\\Capstone-3\\raw data\\Womens Clothing E-Commerce Reviews.csv\", index_col=0)"
   ]
  },
  {
   "cell_type": "code",
   "execution_count": null,
   "id": "1abf1081",
   "metadata": {},
   "outputs": [],
   "source": [
    "clothing_data.info()"
   ]
  },
  {
   "cell_type": "code",
   "execution_count": null,
   "id": "ef1b771e",
   "metadata": {},
   "outputs": [],
   "source": [
    "clothing_data.head()"
   ]
  },
  {
   "cell_type": "markdown",
   "id": "fce338be",
   "metadata": {},
   "source": [
    "### Exploring the Data"
   ]
  },
  {
   "cell_type": "code",
   "execution_count": null,
   "id": "146e6a32",
   "metadata": {},
   "outputs": [],
   "source": [
    "clothing_data['Rating'].unique()"
   ]
  },
  {
   "cell_type": "code",
   "execution_count": null,
   "id": "c1e85800",
   "metadata": {},
   "outputs": [],
   "source": [
    "clothing_data['Class Name'].unique()"
   ]
  },
  {
   "cell_type": "code",
   "execution_count": null,
   "id": "0b3c4a93",
   "metadata": {},
   "outputs": [],
   "source": [
    "missing = pd.concat([clothing_data.isnull().sum(), 100 * clothing_data.isnull().mean()], axis=1)\n",
    "missing.columns=['count', '%']\n",
    "missing.sort_values(by=['count', '%'], ascending = False)"
   ]
  },
  {
   "cell_type": "code",
   "execution_count": null,
   "id": "42b5ef0d",
   "metadata": {},
   "outputs": [],
   "source": [
    "clothing_data.describe()"
   ]
  },
  {
   "cell_type": "code",
   "execution_count": null,
   "id": "4c8bb0f5",
   "metadata": {},
   "outputs": [],
   "source": [
    "clothing_data['Clothing ID'].value_counts().head()"
   ]
  },
  {
   "cell_type": "code",
   "execution_count": null,
   "id": "baf6d9fe",
   "metadata": {},
   "outputs": [],
   "source": [
    "clothing_data[clothing_data['Clothing ID'] == 1078].head()"
   ]
  },
  {
   "cell_type": "code",
   "execution_count": null,
   "id": "ed7f7080",
   "metadata": {},
   "outputs": [],
   "source": [
    "clothing_data.hist(figsize=(11,8))\n",
    "plt.subplots_adjust(hspace=0.5)"
   ]
  },
  {
   "cell_type": "markdown",
   "id": "f17bea26",
   "metadata": {},
   "source": [
    "### Cleaning Data"
   ]
  },
  {
   "cell_type": "markdown",
   "id": "6da79c25",
   "metadata": {},
   "source": [
    "Remove unnecessary columns and null values."
   ]
  },
  {
   "cell_type": "code",
   "execution_count": null,
   "id": "02398103",
   "metadata": {},
   "outputs": [],
   "source": [
    "clothing_data.drop(columns=['Clothing ID', 'Class Name', 'Age', 'Title', 'Recommended IND', 'Positive Feedback Count', 'Division Name', 'Department Name'], inplace=True)"
   ]
  },
  {
   "cell_type": "code",
   "execution_count": null,
   "id": "e07004d1",
   "metadata": {},
   "outputs": [],
   "source": [
    "clothing_data[\"Review Text\"].replace('', np.nan, inplace=True)"
   ]
  },
  {
   "cell_type": "code",
   "execution_count": null,
   "id": "81ceae07",
   "metadata": {},
   "outputs": [],
   "source": [
    "clothing_data.dropna(inplace=True)"
   ]
  },
  {
   "cell_type": "code",
   "execution_count": null,
   "id": "aff30de9",
   "metadata": {},
   "outputs": [],
   "source": [
    "missing = pd.concat([clothing_data.isnull().sum(), 100 * clothing_data.isnull().mean()], axis=1)\n",
    "missing.columns=['count', '%']\n",
    "missing.sort_values(by=['count', '%'], ascending = False)"
   ]
  },
  {
   "cell_type": "code",
   "execution_count": null,
   "id": "299c5376",
   "metadata": {},
   "outputs": [],
   "source": [
    "clothing_data.to_csv(r\"C:\\Users\\ashle\\OneDrive\\Documents\\GitHub\\Capstone-3\\raw data\\reviews_data.csv\")"
   ]
  }
 ],
 "metadata": {
  "kernelspec": {
   "display_name": "Python 3 (ipykernel)",
   "language": "python",
   "name": "python3"
  },
  "language_info": {
   "codemirror_mode": {
    "name": "ipython",
    "version": 3
   },
   "file_extension": ".py",
   "mimetype": "text/x-python",
   "name": "python",
   "nbconvert_exporter": "python",
   "pygments_lexer": "ipython3",
   "version": "3.9.17"
  }
 },
 "nbformat": 4,
 "nbformat_minor": 5
}
